{
 "cells": [
  {
   "cell_type": "code",
   "execution_count": 1,
   "metadata": {
    "collapsed": false
   },
   "outputs": [
    {
     "data": {
      "text/plain": [
       "true"
      ]
     },
     "execution_count": 1,
     "metadata": {},
     "output_type": "execute_result"
    }
   ],
   "source": [
    "require './cmd/user'\n",
    "require './cmd/interface'\n",
    "require './config/keys.local'\n",
    "require 'uri'\n",
    "require 'net/http'\n",
    "require 'json'\n"
   ]
  },
  {
   "cell_type": "code",
   "execution_count": 2,
   "metadata": {
    "collapsed": false
   },
   "outputs": [
    {
     "name": "stdout",
     "output_type": "stream",
     "text": [
      "\n"
     ]
    }
   ],
   "source": [
    "user = Test::User.new\n",
    "user.create\n",
    "puts user.id\n"
   ]
  },
  {
   "cell_type": "code",
   "execution_count": null,
   "metadata": {
    "collapsed": false
   },
   "outputs": [
    {
     "ename": "ArgumentError",
     "evalue": "wrong number of arguments (given 2, expected 1)",
     "output_type": "error",
     "traceback": [
      "\u001b[31mArgumentError\u001b[0m: wrong number of arguments (given 2, expected 1)",
      "\u001b[37m<main>:1:in `send'\u001b[0m",
      "\u001b[37m/usr/local/lib/ruby/gems/2.3.0/gems/iruby-0.3/lib/iruby/kernel.rb:47:in `dispatch'\u001b[0m",
      "\u001b[37m/usr/local/lib/ruby/gems/2.3.0/gems/iruby-0.3/lib/iruby/kernel.rb:37:in `run'\u001b[0m",
      "\u001b[37m/usr/local/lib/ruby/gems/2.3.0/gems/iruby-0.3/lib/iruby/command.rb:70:in `run_kernel'\u001b[0m",
      "\u001b[37m/usr/local/lib/ruby/gems/2.3.0/gems/iruby-0.3/lib/iruby/command.rb:34:in `run'\u001b[0m",
      "\u001b[37m/usr/local/lib/ruby/gems/2.3.0/gems/iruby-0.3/bin/iruby:5:in `<top (required)>'\u001b[0m",
      "\u001b[37m/usr/local/bin/iruby:22:in `load'\u001b[0m",
      "\u001b[37m/usr/local/bin/iruby:22:in `<main>'\u001b[0m"
     ]
    }
   ],
   "source": [
    "commands = [\"accueil\", \"btn_mail\", \"ex_mail\"]\n",
    "res = sendCommand(commands[0], user)"
   ]
  },
  {
   "cell_type": "code",
   "execution_count": 3,
   "metadata": {
    "collapsed": false
   },
   "outputs": [
    {
     "data": {
      "text/plain": [
       ":sendCommand"
      ]
     },
     "execution_count": 3,
     "metadata": {},
     "output_type": "execute_result"
    }
   ],
   "source": [
    "def send_fb(message)\n",
    "        uri = URI.parse(\"http://localhost:8080/#{FB_WEBHOOK_PREFIX}/fbmessenger\")\n",
    "\n",
    "        http = Net::HTTP.new(uri.host, uri.port)\n",
    "        request = Net::HTTP::Post.new(uri)\n",
    "        request.add_field('Content-Type', 'application/json')\n",
    "        request.body = JSON.dump(message)\n",
    "        res=http.request(request)\n",
    "        return JSON.parse(res.body)\n",
    "    end\n",
    "\n",
    "# send a defined command from json\n",
    "def sendCommand(cmd_name, user)\n",
    "    cmd = all_cmds[cmd_name]\n",
    "    user.id_msg += 1\n",
    "    user.seq += 1\n",
    "    msg = {\n",
    "        \"id\"=> user.id_msg,\n",
    "        \"time\"=> Time.now()+ 10,\n",
    "        \"messaging\"=> [\n",
    "            {\n",
    "                \"sender\"=> {\n",
    "                    \"id\"=> user.id\n",
    "                },\n",
    "                \"recipient\"=> {\n",
    "                    \"id\"=> \"280888182276686\"\n",
    "                },\n",
    "                \"timestamp\"=> Time.now(),\n",
    "                \"message\"=> {\n",
    "                    \"text\" => cmd[0],\n",
    "                    \"mid\"=> \"mid.$cAAClhDrchvRhb5BED1bPkr7mJJ3A\",\n",
    "                    \"seq\"=> user.seq,\n",
    "\n",
    "                }\n",
    "            }\n",
    "        ]\n",
    "    }\n",
    "    puts msg\n",
    "    return send(msg)\n",
    "end"
   ]
  },
  {
   "cell_type": "code",
   "execution_count": null,
   "metadata": {
    "collapsed": false
   },
   "outputs": [
    {
     "ename": "ArgumentError",
     "evalue": "wrong number of arguments (given 2, expected 1)",
     "output_type": "error",
     "traceback": [
      "\u001b[31mArgumentError\u001b[0m: wrong number of arguments (given 2, expected 1)",
      "\u001b[37m<main>:1:in `send'\u001b[0m",
      "\u001b[37m/usr/local/lib/ruby/gems/2.3.0/gems/iruby-0.3/lib/iruby/kernel.rb:47:in `dispatch'\u001b[0m",
      "\u001b[37m/usr/local/lib/ruby/gems/2.3.0/gems/iruby-0.3/lib/iruby/kernel.rb:37:in `run'\u001b[0m",
      "\u001b[37m/usr/local/lib/ruby/gems/2.3.0/gems/iruby-0.3/lib/iruby/command.rb:70:in `run_kernel'\u001b[0m",
      "\u001b[37m/usr/local/lib/ruby/gems/2.3.0/gems/iruby-0.3/lib/iruby/command.rb:34:in `run'\u001b[0m",
      "\u001b[37m/usr/local/lib/ruby/gems/2.3.0/gems/iruby-0.3/bin/iruby:5:in `<top (required)>'\u001b[0m",
      "\u001b[37m/usr/local/bin/iruby:22:in `load'\u001b[0m",
      "\u001b[37m/usr/local/bin/iruby:22:in `<main>'\u001b[0m"
     ]
    }
   ],
   "source": [
    "1"
   ]
  },
  {
   "cell_type": "code",
   "execution_count": null,
   "metadata": {
    "collapsed": false
   },
   "outputs": [
    {
     "ename": "ArgumentError",
     "evalue": "wrong number of arguments (given 2, expected 1)",
     "output_type": "error",
     "traceback": [
      "\u001b[31mArgumentError\u001b[0m: wrong number of arguments (given 2, expected 1)",
      "\u001b[37m<main>:1:in `send'\u001b[0m",
      "\u001b[37m/usr/local/lib/ruby/gems/2.3.0/gems/iruby-0.3/lib/iruby/kernel.rb:47:in `dispatch'\u001b[0m",
      "\u001b[37m/usr/local/lib/ruby/gems/2.3.0/gems/iruby-0.3/lib/iruby/kernel.rb:37:in `run'\u001b[0m",
      "\u001b[37m/usr/local/lib/ruby/gems/2.3.0/gems/iruby-0.3/lib/iruby/command.rb:70:in `run_kernel'\u001b[0m",
      "\u001b[37m/usr/local/lib/ruby/gems/2.3.0/gems/iruby-0.3/lib/iruby/command.rb:34:in `run'\u001b[0m",
      "\u001b[37m/usr/local/lib/ruby/gems/2.3.0/gems/iruby-0.3/bin/iruby:5:in `<top (required)>'\u001b[0m",
      "\u001b[37m/usr/local/bin/iruby:22:in `load'\u001b[0m",
      "\u001b[37m/usr/local/bin/iruby:22:in `<main>'\u001b[0m"
     ]
    }
   ],
   "source": [
    "# cmd =  [\"accueil\", \"Bonjour\"]\n",
    "# user.id_msg += 1\n",
    "# user.seq += 1\n",
    "# msg = {\n",
    "#     \"id\"=> user.id_msg,\n",
    "#     \"time\"=> Time.now()+ 10,\n",
    "#     \"messaging\"=> [\n",
    "#         {\n",
    "#             \"sender\"=> {\n",
    "#                 \"id\"=> user.id\n",
    "#             },\n",
    "#             \"recipient\"=> {\n",
    "#                 \"id\"=> \"280888182276686\"\n",
    "#             },\n",
    "#             \"timestamp\"=> Time.now(),\n",
    "#             \"message\"=> {\n",
    "#                 \"text\" => cmd[0],\n",
    "#                 \"mid\"=> \"mid.$cAAClhDrchvRhb5BED1bPkr7mJJ3A\",\n",
    "#                 \"seq\"=> 0001,\n",
    "\n",
    "#             }\n",
    "#         }\n",
    "#     ]\n",
    "# }\n",
    "# puts msg"
   ]
  },
  {
   "cell_type": "code",
   "execution_count": null,
   "metadata": {
    "collapsed": true
   },
   "outputs": [],
   "source": []
  }
 ],
 "metadata": {
  "kernelspec": {
   "display_name": "Ruby 2.3.3",
   "language": "ruby",
   "name": "ruby"
  },
  "language_info": {
   "file_extension": ".rb",
   "mimetype": "application/x-ruby",
   "name": "ruby",
   "version": "2.3.3"
  }
 },
 "nbformat": 4,
 "nbformat_minor": 2
}
